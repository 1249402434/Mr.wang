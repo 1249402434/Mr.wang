{
 "cells": [
  {
   "cell_type": "markdown",
   "metadata": {},
   "source": [
    "运行环境：\n",
    "        python    3.6.4\n",
    "        lightgbm  2.1.2\n",
    "        numpy     1.14.0\n",
    "        pandas    0.22.0\n",
    "        xgboost   0.72\n",
    "        scikit-learn  0.19.1\n",
    "运行顺序：\n",
    "        lgb_12.ipynb\n",
    "        lgb_34.ipynb\n",
    "        xgb_1.ipynb\n",
    "        xgb_2.ipynb\n",
    "        ronghe.ipynb\n",
    "文件说明：\n",
    "        data文件夹存放原始数据\n",
    "        result文件夹存放结果文件\n",
    "        最终提交结果文件为final_submit.csv"
   ]
  },
  {
   "cell_type": "code",
   "execution_count": null,
   "metadata": {},
   "outputs": [],
   "source": []
  }
 ],
 "metadata": {
  "kernelspec": {
   "display_name": "Python 3",
   "language": "python",
   "name": "python3"
  },
  "language_info": {
   "codemirror_mode": {
    "name": "ipython",
    "version": 3
   },
   "file_extension": ".py",
   "mimetype": "text/x-python",
   "name": "python",
   "nbconvert_exporter": "python",
   "pygments_lexer": "ipython3",
   "version": "3.6.4"
  }
 },
 "nbformat": 4,
 "nbformat_minor": 2
}
