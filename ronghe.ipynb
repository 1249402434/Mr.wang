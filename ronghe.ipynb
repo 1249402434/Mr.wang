{
 "cells": [
  {
   "cell_type": "code",
   "execution_count": 6,
   "metadata": {},
   "outputs": [
    {
     "name": "stdout",
     "output_type": "stream",
     "text": [
      "          sub1      sub2      sub3      sub4      sub5      sub6\n",
      "sub1  1.000000  0.996386  0.986637  0.974687  0.971497  0.969332\n",
      "sub2  0.996386  1.000000  0.984632  0.979859  0.965804  0.964760\n",
      "sub3  0.986637  0.984632  1.000000  0.982618  0.965012  0.979803\n",
      "sub4  0.974687  0.979859  0.982618  1.000000  0.955145  0.957297\n",
      "sub5  0.971497  0.965804  0.965012  0.955145  1.000000  0.947403\n",
      "sub6  0.969332  0.964760  0.979803  0.957297  0.947403  1.000000\n",
      "Done\n",
      "            user_id  prediction_pay_price\n",
      "count  8.289340e+05         828934.000000\n",
      "mean   1.811513e+06              2.442096\n",
      "std    8.229500e+05            103.698884\n",
      "min    1.493300e+04              0.000000\n",
      "25%    1.286373e+06              0.000000\n",
      "50%    2.012872e+06              0.000000\n",
      "75%    2.481669e+06              0.000000\n",
      "max    3.176543e+06          45086.965891\n"
     ]
    }
   ],
   "source": [
    "import pandas as pd\n",
    "sub1 = pd.read_csv('result/lgb_1.csv').sort_values('user_id').reset_index().drop(['index'],1)\n",
    "sub2 = pd.read_csv('result/lgb_2.csv').sort_values('user_id').reset_index().drop(['index'],1)\n",
    "sub3 = pd.read_csv('result/lgb_3.csv').sort_values('user_id').reset_index().drop(['index'],1)\n",
    "sub4 = pd.read_csv('result/lgb_4.csv').sort_values('user_id').reset_index().drop(['index'],1)\n",
    "sub5 = pd.read_csv('result/xgb_1.csv').sort_values('user_id').reset_index().drop(['index'],1)\n",
    "sub6 = pd.read_csv('result/xgb_2.csv').sort_values('user_id').reset_index().drop(['index'],1)\n",
    "co = 'prediction_pay_price'\n",
    "df = pd.DataFrame()\n",
    "df['sub1'] = sub1[co]\n",
    "df['sub2'] = sub2[co]\n",
    "df['sub3'] = sub3[co]\n",
    "df['sub4'] = sub4[co]\n",
    "df['sub5'] = sub5[co]\n",
    "df['sub6'] = sub6[co]\n",
    "print(df.corr())\n",
    "sub = sub1.copy()\n",
    "sub[co] = ((sub1[co]+sub2[co])/2+(sub3[co]+sub4[co])/2+(sub5[co]+sub6[co])/2)/3\n",
    "sub.to_csv('result/final_submit.csv',index=False)\n",
    "print('Done')\n",
    "print(sub.describe())"
   ]
  },
  {
   "cell_type": "code",
   "execution_count": null,
   "metadata": {},
   "outputs": [],
   "source": []
  },
  {
   "cell_type": "code",
   "execution_count": null,
   "metadata": {},
   "outputs": [],
   "source": []
  }
 ],
 "metadata": {
  "kernelspec": {
   "display_name": "Python 3",
   "language": "python",
   "name": "python3"
  },
  "language_info": {
   "codemirror_mode": {
    "name": "ipython",
    "version": 3
   },
   "file_extension": ".py",
   "mimetype": "text/x-python",
   "name": "python",
   "nbconvert_exporter": "python",
   "pygments_lexer": "ipython3",
   "version": "3.6.4"
  }
 },
 "nbformat": 4,
 "nbformat_minor": 2
}
